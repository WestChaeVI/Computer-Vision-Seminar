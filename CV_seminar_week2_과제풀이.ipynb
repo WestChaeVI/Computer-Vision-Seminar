{
  "nbformat": 4,
  "nbformat_minor": 0,
  "metadata": {
    "colab": {
      "provenance": [],
      "include_colab_link": true
    },
    "kernelspec": {
      "name": "python3",
      "display_name": "Python 3"
    },
    "language_info": {
      "name": "python"
    }
  },
  "cells": [
    {
      "cell_type": "markdown",
      "metadata": {
        "id": "view-in-github",
        "colab_type": "text"
      },
      "source": [
        "<a href=\"https://colab.research.google.com/github/WestChaeVI/Date-Network-Analysis/blob/main/CV_seminar_week2_%EA%B3%BC%EC%A0%9C%ED%92%80%EC%9D%B4.ipynb\" target=\"_parent\"><img src=\"https://colab.research.google.com/assets/colab-badge.svg\" alt=\"Open In Colab\"/></a>"
      ]
    },
    {
      "cell_type": "code",
      "source": [
        "pwd"
      ],
      "metadata": {
        "colab": {
          "base_uri": "https://localhost:8080/",
          "height": 36
        },
        "id": "v4INUn58AAx9",
        "outputId": "b123882b-f498-4e57-c5c2-8f7f525c8ce6"
      },
      "execution_count": null,
      "outputs": [
        {
          "output_type": "execute_result",
          "data": {
            "text/plain": [
              "'/content'"
            ],
            "application/vnd.google.colaboratory.intrinsic+json": {
              "type": "string"
            }
          },
          "metadata": {},
          "execution_count": 1
        }
      ]
    },
    {
      "cell_type": "code",
      "source": [
        "# 현재 경로를 앞으로 진행할 프로젝트 디렉토리로 이동한다.\n",
        "%cd /content/drive/MyDrive/CV_seminar_project "
      ],
      "metadata": {
        "id": "9pmMDNLtBKei",
        "colab": {
          "base_uri": "https://localhost:8080/"
        },
        "outputId": "ccc5b2e3-02de-469a-fc87-d4acd5268c14"
      },
      "execution_count": null,
      "outputs": [
        {
          "output_type": "stream",
          "name": "stdout",
          "text": [
            "/content/drive/MyDrive/CV_seminar_project\n"
          ]
        }
      ]
    },
    {
      "cell_type": "code",
      "source": [
        "pwd"
      ],
      "metadata": {
        "colab": {
          "base_uri": "https://localhost:8080/",
          "height": 36
        },
        "id": "q3jDUS3XBR2X",
        "outputId": "cd6b0a2c-de07-4456-ae31-3d6320fb58a5"
      },
      "execution_count": null,
      "outputs": [
        {
          "output_type": "execute_result",
          "data": {
            "text/plain": [
              "'/content/drive/MyDrive/CV_seminar_project'"
            ],
            "application/vnd.google.colaboratory.intrinsic+json": {
              "type": "string"
            }
          },
          "metadata": {},
          "execution_count": 3
        }
      ]
    },
    {
      "cell_type": "code",
      "source": [
        "import glob\n",
        "'''glob 함수를 이용하면, 해당 경로에 있는 파일들의 경로를 전부 리스트로 얻어올 수 있습니다. glob 라이브러리를 이용하여 이번 과제를 해결해주세요.'''\n",
        "dolphin_img_list = glob.glob('/content/drive/MyDrive/CV_seminar_project/original/dolphin/*')\n",
        "shark_img_list = glob.glob('/content/drive/MyDrive/CV_seminar_project/original/shark/*')\n",
        "whale_img_list = glob.glob('/content/drive/MyDrive/CV_seminar_project/original/whale/*')\n",
        "\n",
        "dic = {'dolphin':dolphin_img_list, 'shark': shark_img_list, 'whale': whale_img_list}\n",
        "for key in dic.keys():\n",
        "  print(f'{key}이미지가 ',len(dic[key]), '개 있습니다.')\n",
        "print('------------------------------------------------------------------------')\n",
        "\n",
        "length_list = []\n",
        "for key in dic.keys():\n",
        "  print(f'{key}이미지는 trian, valid, test셋에 대해 ',int(len(dic[key])*0.7), int(len(dic[key])*0.2), int(len(dic[key])*0.1), '개씩 배정해주세요.')\n",
        "  length_list.append([int(len(dic[key])*0.7), int(len(dic[key])*0.2), int(len(dic[key])*0.1)])"
      ],
      "metadata": {
        "colab": {
          "base_uri": "https://localhost:8080/"
        },
        "id": "vUUfoRmpR-fV",
        "outputId": "fd4c3ff7-e23a-40ab-f129-5d88b208ae80"
      },
      "execution_count": null,
      "outputs": [
        {
          "output_type": "stream",
          "name": "stdout",
          "text": [
            "dolphin이미지가  373 개 있습니다.\n",
            "shark이미지가  488 개 있습니다.\n",
            "whale이미지가  451 개 있습니다.\n",
            "------------------------------------------------------------------------\n",
            "dolphin이미지는 trian, valid, test셋에 대해  261 74 37 개씩 배정해주세요.\n",
            "shark이미지는 trian, valid, test셋에 대해  341 97 48 개씩 배정해주세요.\n",
            "whale이미지는 trian, valid, test셋에 대해  315 90 45 개씩 배정해주세요.\n"
          ]
        }
      ]
    },
    {
      "cell_type": "code",
      "execution_count": null,
      "metadata": {
        "id": "cHNd56dD_BBk"
      },
      "outputs": [],
      "source": [
        "import os\n",
        "import glob\n",
        "import cv2\n",
        "import time\n",
        "\n",
        "class Make_dataset_dir():\n",
        "  def __init__(self, root_dir):\n",
        "    self.root_path = root_dir+'/' if root_dir[-1] != '/' else root_dir # 현재 진행할 프로젝트\n",
        "    self.img_path_list = root_dir+'original' # 전달한 이미지들의 상위 경로\n",
        "    self.trainset_path = root_dir+'train/'\n",
        "    self.validset_path = root_dir+'valid/'\n",
        "    self.testset_path = root_dir+'test/'\n",
        "    self.class_list = ['dolphin', 'shark', 'whale']\n",
        "\n",
        "  def mk_dir(self):\n",
        "    '''train, valid, test 폴더를 만들고, 내부에는 클래스 별 폴더를 추가로 만들어 주세요.'''\n",
        "    dataset_dir_list = [self.trainset_path, self.validset_path, self.testset_path]\n",
        "    for dataset_dir in dataset_dir_list:\n",
        "      for cls in self.class_list:\n",
        "        os.makedirs(dataset_dir+cls, exist_ok=True)\n",
        "    print('디렉토리 생성을 완료하였습니다.')\n",
        "    \n",
        "  def move_img(self):\n",
        "    '''mk_dir에서 만든 폴더들에 각 클래스에 맞는 이미지를 배당해주세요. train, valid, test에 각각 7: 2: 1'''\n",
        "    dolphin_img_list = glob.glob('/content/drive/MyDrive/CV_seminar_project/original/dolphin/*')\n",
        "    shark_img_list = glob.glob('/content/drive/MyDrive/CV_seminar_project/original/shark/*')\n",
        "    whale_img_list = glob.glob('/content/drive/MyDrive/CV_seminar_project/original/whale/*')\n",
        "    \n",
        "    dic = {'dolphin':dolphin_img_list, 'shark': shark_img_list, 'whale': whale_img_list} # 딕셔너리 생성\n",
        "    for key in dic.keys():\n",
        "      length_list.append([int(len(dic[key])*0.7), int(len(dic[key])*0.2), int(len(dic[key])*0.1)]) # 클래스 별 분할 개수 리스트 생성\n",
        "\n",
        "    for i,key in enumerate(dic.keys()):\n",
        "      spliting_length = length_list[i]\n",
        "\n",
        "      for ii, img_path in enumerate(dic[key]):\n",
        "        if ii+1 <= spliting_length[0] : # train셋 개수이면,\n",
        "          img = cv2.imread(img_path)\n",
        "          img_name = img_path.split('/')[-1]\n",
        "          cv2.imwrite(self.trainset_path + '/' + key + '/' + img_name, img)\n",
        "\n",
        "        elif spliting_length[0] < ii+1 and ii+1 <= spliting_length[0] + spliting_length[1]: # valid셋 개수이면,\n",
        "          img = cv2.imread(img_path)\n",
        "          img_name = img_path.split('/')[-1]\n",
        "          cv2.imwrite(self.validset_path + '/' + key + '/' + img_name, img)\n",
        "\n",
        "        else:\n",
        "          img = cv2.imread(img_path)\n",
        "          img_name = img_path.split('/')[-1]\n",
        "          cv2.imwrite(self.testset_path + '/' + key + '/' + img_name, img)\n",
        "    print('데이터 스플릿이 전부 완료되었습니다.')\n",
        "\n",
        "  def run(self):\n",
        "    start = time.time()\n",
        "    self.mk_dir()\n",
        "    self.move_img()\n",
        "    print('총 소요시간: ', time.time()-start)\n",
        "\n",
        "  def checking_dirs(self):\n",
        "    path_list = [self.trainset_path, self.validset_path, self.testset_path]\n",
        "\n",
        "    for i,path in enumerate(path_list):\n",
        "      length_dic = {}\n",
        "      for cls in self.class_list:\n",
        "        length_dic[cls] = len(glob.glob(path+cls+'/*'))\n",
        "\n",
        "      if i==0:\n",
        "        for key in length_dic:\n",
        "          print( f'trainset의 {key}클래스 개수: {length_dic[key]}')\n",
        "        print('---------------------------------------------------------------')\n",
        "      elif i==1:\n",
        "        for key in length_dic:\n",
        "          print( f'validset의 {key}클래스 개수: {length_dic[key]}')\n",
        "        print('---------------------------------------------------------------')\n",
        "      else:\n",
        "        for key in length_dic:\n",
        "          print( f'validset의 {key}클래스 개수: {length_dic[key]}')"
      ]
    },
    {
      "cell_type": "markdown",
      "source": [
        "# 파이토치 데이터셋 클래스 만들기"
      ],
      "metadata": {
        "id": "cFHPXqYKSKc8"
      }
    },
    {
      "cell_type": "code",
      "source": [],
      "metadata": {
        "id": "nwv03SxVSNT8"
      },
      "execution_count": null,
      "outputs": []
    },
    {
      "cell_type": "code",
      "source": [],
      "metadata": {
        "id": "JOnWAydxSNPM"
      },
      "execution_count": null,
      "outputs": []
    },
    {
      "cell_type": "code",
      "source": [],
      "metadata": {
        "id": "Xm_V8JG-SNMV"
      },
      "execution_count": null,
      "outputs": []
    },
    {
      "cell_type": "markdown",
      "source": [
        "# 파이토치 모델만들기"
      ],
      "metadata": {
        "id": "0OeKQTZESOEj"
      }
    },
    {
      "cell_type": "code",
      "source": [],
      "metadata": {
        "id": "iDoPazSbSNJX"
      },
      "execution_count": null,
      "outputs": []
    },
    {
      "cell_type": "code",
      "source": [
        "from ex1 import Make_dataset_dir"
      ],
      "metadata": {
        "id": "ivvaw6QIQ6_O"
      },
      "execution_count": null,
      "outputs": []
    },
    {
      "cell_type": "code",
      "source": [
        "inho=Make_dataset_dir('/content/drive/MyDrive/CV_seminar_project')\n",
        "inho.checking_dirs()"
      ],
      "metadata": {
        "colab": {
          "base_uri": "https://localhost:8080/"
        },
        "id": "7-n_BjxyQ65O",
        "outputId": "22b54ec2-64bd-4c09-e08f-8fbe9f2c382a"
      },
      "execution_count": null,
      "outputs": [
        {
          "output_type": "stream",
          "name": "stdout",
          "text": [
            "trainset의 dolphin클래스 개수: 0\n",
            "trainset의 shark클래스 개수: 0\n",
            "trainset의 whale클래스 개수: 0\n",
            "---------------------------------------------------------------\n",
            "validset의 dolphin클래스 개수: 0\n",
            "validset의 shark클래스 개수: 0\n",
            "validset의 whale클래스 개수: 0\n",
            "---------------------------------------------------------------\n",
            "validset의 dolphin클래스 개수: 0\n",
            "validset의 shark클래스 개수: 0\n",
            "validset의 whale클래스 개수: 0\n"
          ]
        }
      ]
    },
    {
      "cell_type": "code",
      "source": [],
      "metadata": {
        "id": "1Tv2QTz2Q60C"
      },
      "execution_count": null,
      "outputs": []
    },
    {
      "cell_type": "code",
      "source": [
        "Make_dataset_dir(root_dir='/content/drive/MyDrive/CV_seminar_project/').run()\n",
        "\n",
        "Make_dataset_dir(root_dir='/content/drive/MyDrive/CV_seminar_project/').checking_dirs()"
      ],
      "metadata": {
        "id": "y7YI8UmX_G5c",
        "colab": {
          "base_uri": "https://localhost:8080/"
        },
        "outputId": "9444b2fe-dd07-42d5-b00a-fdba4d77f59e"
      },
      "execution_count": null,
      "outputs": [
        {
          "output_type": "stream",
          "name": "stdout",
          "text": [
            "디렉토리 생성을 완료하였습니다.\n",
            "데이터 스플릿이 전부 완료되었습니다.\n",
            "총 소요시간:  14.221384525299072\n",
            "trainset의 dolphin클래스 개수: 261\n",
            "trainset의 shark클래스 개수: 341\n",
            "trainset의 whale클래스 개수: 315\n",
            "---------------------------------------------------------------\n",
            "validset의 dolphin클래스 개수: 74\n",
            "validset의 shark클래스 개수: 97\n",
            "validset의 whale클래스 개수: 90\n",
            "---------------------------------------------------------------\n",
            "validset의 dolphin클래스 개수: 38\n",
            "validset의 shark클래스 개수: 50\n",
            "validset의 whale클래스 개수: 46\n"
          ]
        }
      ]
    },
    {
      "cell_type": "code",
      "source": [
        "pwd"
      ],
      "metadata": {
        "colab": {
          "base_uri": "https://localhost:8080/",
          "height": 36
        },
        "id": "W6_Gm4SBJCbt",
        "outputId": "b9856279-d028-435e-981c-377f553fe895"
      },
      "execution_count": null,
      "outputs": [
        {
          "output_type": "execute_result",
          "data": {
            "text/plain": [
              "'/content/drive/MyDrive/CV_seminar_project'"
            ],
            "application/vnd.google.colaboratory.intrinsic+json": {
              "type": "string"
            }
          },
          "metadata": {},
          "execution_count": 11
        }
      ]
    },
    {
      "cell_type": "markdown",
      "source": [
        "# CV2 라이브러리 맛 보기"
      ],
      "metadata": {
        "id": "zJglxJsnMW2Y"
      }
    },
    {
      "cell_type": "code",
      "source": [
        "img[:,:,::-1]"
      ],
      "metadata": {
        "id": "wdKexM1lNhX5"
      },
      "execution_count": null,
      "outputs": []
    },
    {
      "cell_type": "code",
      "source": [
        "img[:,:,::-1] == img[:,:,-1]"
      ],
      "metadata": {
        "colab": {
          "base_uri": "https://localhost:8080/"
        },
        "id": "dQM9yNNnOEKx",
        "outputId": "289de5f5-412e-4915-d101-2bd517f1c7b1"
      },
      "execution_count": null,
      "outputs": [
        {
          "output_type": "stream",
          "name": "stderr",
          "text": [
            "<ipython-input-29-21c0ee10c3b9>:1: DeprecationWarning: elementwise comparison failed; this will raise an error in the future.\n",
            "  img[:,:,::-1] == img[:,:,-1]\n"
          ]
        },
        {
          "output_type": "execute_result",
          "data": {
            "text/plain": [
              "False"
            ]
          },
          "metadata": {},
          "execution_count": 29
        }
      ]
    },
    {
      "cell_type": "code",
      "source": [
        "import cv2\n",
        "import matplotlib.pyplot as plt\n",
        "from google.colab.patches import cv2_imshow # cv2.imshow(img)가 안되므로 \n",
        "from PIL import Image as PILImage\n",
        "\n",
        "fig = plt.figure(figsize=(10,10))\n",
        "\n",
        "dolphin_img_list = glob.glob('/content/drive/MyDrive/CV_seminar_project/original/dolphin/*')\n",
        "shark_img_list = glob.glob('/content/drive/MyDrive/CV_seminar_project/original/shark/*')\n",
        "whale_img_list = glob.glob('/content/drive/MyDrive/CV_seminar_project/original/whale/*')\n",
        "\n",
        "img = cv2.imread(dolphin_img_list[0]) # 이미지를 BGR로 읽음\n",
        "plt.subplot(1,2,1)\n",
        "# cv2.imshow(img) # 방법 1 -> 에러 남\n",
        "# plt.imshow(img[:,:,::-1]) # 방법 2 -> RGB로 읽어야 해서 바뀜.\n",
        "PILImage.open(dolphin_img_list[0]) # 방법 3 -> 경로를 인자로 받아서 바로 읽음\n",
        "\n",
        "# plt.subplot(1,2,2)\n",
        "# plt.imshow(img[])"
      ],
      "metadata": {
        "colab": {
          "base_uri": "https://localhost:8080/",
          "height": 855
        },
        "id": "POSiDd0TG62k",
        "outputId": "3fc5c654-3eaf-4656-9d50-abc109771c61"
      },
      "execution_count": null,
      "outputs": [
        {
          "output_type": "execute_result",
          "data": {
            "text/plain": [
              "<PIL.JpegImagePlugin.JpegImageFile image mode=RGB size=194x259 at 0x7EFC244B5970>"
            ],
            "image/png": "[encoded data removed]"
          },
          "metadata": {},
          "execution_count": 36
        },
        {
          "output_type": "display_data",
          "data": {
            "text/plain": [
              "<Figure size 720x720 with 1 Axes>"
            ],
            "image/png": "[encoded data removed]"
          },
          "metadata": {
            "needs_background": "light"
          }
        }
      ]
    }
  ]
}