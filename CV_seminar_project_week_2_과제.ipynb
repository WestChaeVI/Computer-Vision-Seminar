{
  "nbformat": 4,
  "nbformat_minor": 0,
  "metadata": {
    "colab": {
      "provenance": [],
      "mount_file_id": "1MWk123vE7EsBMo3shuYeiKHj1z_5bV0E",
      "authorship_tag": "ABX9TyMRctLrXVNriMBult41EzdL",
      "include_colab_link": true
    },
    "kernelspec": {
      "name": "python3",
      "display_name": "Python 3"
    },
    "language_info": {
      "name": "python"
    }
  },
  "cells": [
    {
      "cell_type": "markdown",
      "metadata": {
        "id": "view-in-github",
        "colab_type": "text"
      },
      "source": [
        "<a href=\"https://colab.research.google.com/github/WestChaeVI/Date-Network-Analysis/blob/main/CV_seminar_project_week_2_%EA%B3%BC%EC%A0%9C.ipynb\" target=\"_parent\"><img src=\"https://colab.research.google.com/assets/colab-badge.svg\" alt=\"Open In Colab\"/></a>"
      ]
    },
    {
      "cell_type": "code",
      "execution_count": 6,
      "metadata": {
        "colab": {
          "base_uri": "https://localhost:8080/",
          "height": 35
        },
        "id": "fMYGLjeO3kve",
        "outputId": "f2de60be-aae1-4360-a70f-974f1308b93c"
      },
      "outputs": [
        {
          "output_type": "execute_result",
          "data": {
            "text/plain": [
              "'/content'"
            ],
            "application/vnd.google.colaboratory.intrinsic+json": {
              "type": "string"
            }
          },
          "metadata": {},
          "execution_count": 6
        }
      ],
      "source": [
        "pwd"
      ]
    },
    {
      "cell_type": "code",
      "source": [
        "# Move towards future project progress towards current destination.\n",
        "%cd /content/drive/MyDrive/CV_seminar_project "
      ],
      "metadata": {
        "colab": {
          "base_uri": "https://localhost:8080/"
        },
        "id": "_iYdVLII3oHj",
        "outputId": "ef99de3e-272f-42e1-e131-46cf8539248f"
      },
      "execution_count": 7,
      "outputs": [
        {
          "output_type": "stream",
          "name": "stdout",
          "text": [
            "/content/drive/MyDrive/CV_seminar_project\n"
          ]
        }
      ]
    },
    {
      "cell_type": "markdown",
      "source": [
        "It needs to be linked with Google Drive."
      ],
      "metadata": {
        "id": "BoOmUHyA5yMg"
      }
    },
    {
      "cell_type": "code",
      "source": [
        "pwd"
      ],
      "metadata": {
        "colab": {
          "base_uri": "https://localhost:8080/",
          "height": 35
        },
        "id": "V8ak4UNF3pI0",
        "outputId": "b0395b54-d6ff-408d-f296-72bf86266083"
      },
      "execution_count": 8,
      "outputs": [
        {
          "output_type": "execute_result",
          "data": {
            "text/plain": [
              "'/content/drive/MyDrive/CV_seminar_project'"
            ],
            "application/vnd.google.colaboratory.intrinsic+json": {
              "type": "string"
            }
          },
          "metadata": {},
          "execution_count": 8
        }
      ]
    },
    {
      "cell_type": "markdown",
      "source": [
        "# Create multiple lists as needed"
      ],
      "metadata": {
        "id": "DaHAXwlL59qK"
      }
    },
    {
      "cell_type": "code",
      "source": [
        "import glob\n",
        "'''If you use the glob library, you can get all the paths of files in the path as a list. Solve this task using the glob library.'''\n",
        "dolphin_img_list = glob.glob('/content/drive/MyDrive/CV_seminar_project/original/dolphin/*')\n",
        "shark_img_list = glob.glob('/content/drive/MyDrive/CV_seminar_project/original/shark/*')\n",
        "whale_img_list = glob.glob('/content/drive/MyDrive/CV_seminar_project/original/whale/*')\n",
        "\n",
        "# Each image list of dolphin, shark, and whale is initialized through glob.glob().\n",
        "# '/*' means that everything in the previously written path is loaded.\n",
        "\n",
        "dic = {'dolphin':dolphin_img_list, 'shark': shark_img_list, 'whale': whale_img_list}\n",
        "for key in dic.keys():\n",
        "  print(f'{key}이미지가 ',len(dic[key]), '개 있습니다.')\n",
        "print('------------------------------------------------------------------------')\n",
        "\n",
        "length_list = []\n",
        "for key in dic.keys():\n",
        "  print(f'{key}이미지는 trian, valid, test셋에 대해 ',int(len(dic[key])*0.7), int(len(dic[key])*0.2), int(len(dic[key])*0.1), '개씩 배정해주세요.')\n",
        "  length_list.append([int(len(dic[key])*0.7), int(len(dic[key])*0.2), int(len(dic[key])*0.1)])"
      ],
      "metadata": {
        "colab": {
          "base_uri": "https://localhost:8080/"
        },
        "id": "DOK3QeTT3q27",
        "outputId": "57e472fe-ea54-4fb7-9346-43fca3f17914"
      },
      "execution_count": 13,
      "outputs": [
        {
          "output_type": "stream",
          "name": "stdout",
          "text": [
            "dolphin이미지가  373 개 있습니다.\n",
            "shark이미지가  488 개 있습니다.\n",
            "whale이미지가  451 개 있습니다.\n",
            "------------------------------------------------------------------------\n",
            "dolphin이미지는 trian, valid, test셋에 대해  261 74 37 개씩 배정해주세요.\n",
            "shark이미지는 trian, valid, test셋에 대해  341 97 48 개씩 배정해주세요.\n",
            "whale이미지는 trian, valid, test셋에 대해  315 90 45 개씩 배정해주세요.\n"
          ]
        }
      ]
    },
    {
      "cell_type": "code",
      "source": [
        "import os\n",
        "import glob\n",
        "import cv2\n",
        "import time\n",
        "\n",
        "class Make_dataset_dir():\n",
        "  def __init__(self, root_dir):\n",
        "    self.root_path = root_dir+'/' if root_dir[-1] != '/' else root_dir # root_dir = '/content/drive/MyDrive/CV_seminar_project/'\n",
        "    self.img_path_list = root_dir+'original' # Parent path of passed images\n",
        "    self.trainset_path = root_dir+'train/'\n",
        "    self.validset_path = root_dir+'valid/'\n",
        "    self.testset_path = root_dir+'test/'\n",
        "    self.class_list = ['dolphin', 'shark', 'whale']\n",
        "\n",
        "  def mk_dir(self):\n",
        "    '''train, valid, test 폴더를 만들고, 내부에는 클래스 별 폴더를 추가로 만들어 주세요.'''\n",
        "    '''Create train, valid, test folders, and create additional folders for each class inside.'''\n",
        "\n",
        "    dataset_dir_list = [self.trainset_path, self.validset_path, self.testset_path]\n",
        "    for dataset_dir in dataset_dir_list:\n",
        "      for cls in self.class_list:\n",
        "        os.makedirs(dataset_dir+cls, exist_ok=True)\n",
        "    print('디렉토리 생성을 완료하였습니다.')\n",
        "    \n",
        "\n",
        "  def move_img(self):\n",
        "    '''mk_dir에서 만든 폴더들에 각 클래스에 맞는 이미지를 배당해주세요. train, valid, test에 각각 7: 2: 1'''\n",
        "    '''Allocate images for each class to the folders created in mk_dir. 7: 2: 1 for train, valid, and test respectively'''\n",
        "\n",
        "    dolphin_img_list = glob.glob('/content/drive/MyDrive/CV_seminar_project/original/dolphin/*')\n",
        "    shark_img_list = glob.glob('/content/drive/MyDrive/CV_seminar_project/original/shark/*')\n",
        "    whale_img_list = glob.glob('/content/drive/MyDrive/CV_seminar_project/original/whale/*')\n",
        "    \n",
        "    dic = {'dolphin':dolphin_img_list, 'shark': shark_img_list, 'whale': whale_img_list} # 딕셔너리 생성\n",
        "    for key in dic.keys():\n",
        "      length_list.append([int(len(dic[key])*0.7), int(len(dic[key])*0.2), int(len(dic[key])*0.1)]) # 클래스 별 분할 개수 리스트 생성\n",
        "\n",
        "    for i,key in enumerate(dic.keys()):  # Use enumerate function\n",
        "      spliting_length = length_list[i]\n",
        "\n",
        "      for ii, img_path in enumerate(dic[key]):\n",
        "        if ii+1 <= spliting_length[0] : # If the number of train set is,\n",
        "          img = cv2.imread(img_path)\n",
        "          img_name = img_path.split('/')[-1]\n",
        "          cv2.imwrite(self.trainset_path + '/' + key + '/' + img_name, img)\n",
        "\n",
        "        elif spliting_length[0] < ii+1 and ii+1 <= spliting_length[0] + spliting_length[1]: # If the number of valid set is,\n",
        "          img = cv2.imread(img_path)\n",
        "          img_name = img_path.split('/')[-1]\n",
        "          cv2.imwrite(self.validset_path + '/' + key + '/' + img_name, img)\n",
        "\n",
        "        else:\n",
        "          img = cv2.imread(img_path)\n",
        "          img_name = img_path.split('/')[-1]\n",
        "          cv2.imwrite(self.testset_path + '/' + key + '/' + img_name, img)\n",
        "    print('데이터 스플릿이 전부 완료되었습니다.') # All data splits are complete.\n",
        "\n",
        "  def run(self):  # Using time library to print total time spent\n",
        "    start = time.time()\n",
        "    self.mk_dir()\n",
        "    self.move_img()\n",
        "    print('총 소요시간: ', time.time()-start)\n",
        "\n",
        "  def checking_dirs(self):\n",
        "    path_list = [self.trainset_path, self.validset_path, self.testset_path]\n",
        "\n",
        "    for i,path in enumerate(path_list):\n",
        "      length_dic = {}\n",
        "      for cls in self.class_list:\n",
        "        length_dic[cls] = len(glob.glob(path+cls+'/*'))\n",
        "\n",
        "      if i==0:\n",
        "        for key in length_dic:\n",
        "          print( f'trainset의 {key}클래스 개수: {length_dic[key]}')\n",
        "        print('---------------------------------------------------------------')\n",
        "      elif i==1:\n",
        "        for key in length_dic:\n",
        "          print( f'validset의 {key}클래스 개수: {length_dic[key]}')\n",
        "        print('---------------------------------------------------------------')\n",
        "      else:\n",
        "        for key in length_dic:\n",
        "          print( f'validset의 {key}클래스 개수: {length_dic[key]}')"
      ],
      "metadata": {
        "id": "V9anBrF73r9J"
      },
      "execution_count": 10,
      "outputs": []
    },
    {
      "cell_type": "code",
      "source": [
        "Make_dataset_dir(root_dir = '/content/drive/MyDrive/CV_seminar_project/').checking_dirs()"
      ],
      "metadata": {
        "colab": {
          "base_uri": "https://localhost:8080/"
        },
        "id": "b9k_N7Sj4TCH",
        "outputId": "2199222d-aca6-4c80-eb8c-283b19bcff4b"
      },
      "execution_count": 12,
      "outputs": [
        {
          "output_type": "stream",
          "name": "stdout",
          "text": [
            "trainset의 dolphin클래스 개수: 261\n",
            "trainset의 shark클래스 개수: 342\n",
            "trainset의 whale클래스 개수: 316\n",
            "---------------------------------------------------------------\n",
            "validset의 dolphin클래스 개수: 75\n",
            "validset의 shark클래스 개수: 98\n",
            "validset의 whale클래스 개수: 90\n",
            "---------------------------------------------------------------\n",
            "validset의 dolphin클래스 개수: 37\n",
            "validset의 shark클래스 개수: 48\n",
            "validset의 whale클래스 개수: 45\n"
          ]
        }
      ]
    }
  ]
}