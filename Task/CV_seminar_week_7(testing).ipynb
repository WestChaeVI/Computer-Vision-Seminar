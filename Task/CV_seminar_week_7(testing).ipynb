{
  "nbformat": 4,
  "nbformat_minor": 0,
  "metadata": {
    "colab": {
      "provenance": [],
      "mount_file_id": "1Bgkx8E9hv-oHBVDKi8gk5jB69lPPQ6mU",
      "authorship_tag": "ABX9TyNg+BU/Kk8W6VE4+YfcQqiP",
      "include_colab_link": true
    },
    "kernelspec": {
      "name": "python3",
      "display_name": "Python 3"
    },
    "language_info": {
      "name": "python"
    },
    "accelerator": "GPU",
    "gpuClass": "standard"
  },
  "cells": [
    {
      "cell_type": "markdown",
      "metadata": {
        "id": "view-in-github",
        "colab_type": "text"
      },
      "source": [
        "<a href=\"https://colab.research.google.com/github/WestChaeVI/Data-Network-Analysis/blob/main/Task/CV_seminar_week_7(testing).ipynb\" target=\"_parent\"><img src=\"https://colab.research.google.com/assets/colab-badge.svg\" alt=\"Open In Colab\"/></a>"
      ]
    },
    {
      "cell_type": "code",
      "source": [
        "from google.colab import drive\n",
        "drive.mount('/content/drive')"
      ],
      "metadata": {
        "colab": {
          "base_uri": "https://localhost:8080/"
        },
        "id": "6CwLr3KAyD7Z",
        "outputId": "1b69b623-252f-413b-d119-95f56a8033ac"
      },
      "execution_count": 1,
      "outputs": [
        {
          "output_type": "stream",
          "name": "stdout",
          "text": [
            "Drive already mounted at /content/drive; to attempt to forcibly remount, call drive.mount(\"/content/drive\", force_remount=True).\n"
          ]
        }
      ]
    },
    {
      "cell_type": "code",
      "source": [
        "import torch\n",
        "device = 'cuda' if torch.cuda.is_available() else 'cpu' # device 배정\n",
        "torch.manual_seed(42)\n",
        "if device == 'cuda':\"\"\n",
        "torch.cuda.manual_seed_all(42)\n",
        "device"
      ],
      "metadata": {
        "colab": {
          "base_uri": "https://localhost:8080/",
          "height": 35
        },
        "id": "8i5eXon-0n9K",
        "outputId": "9b707d75-673e-414a-88d9-66c56011dffe"
      },
      "execution_count": 2,
      "outputs": [
        {
          "output_type": "execute_result",
          "data": {
            "text/plain": [
              "'cuda'"
            ],
            "application/vnd.google.colaboratory.intrinsic+json": {
              "type": "string"
            }
          },
          "metadata": {},
          "execution_count": 2
        }
      ]
    },
    {
      "cell_type": "code",
      "source": [
        "%cd /content/drive/MyDrive/CV_seminar_project"
      ],
      "metadata": {
        "colab": {
          "base_uri": "https://localhost:8080/"
        },
        "id": "qcR89nXxyuMq",
        "outputId": "0f506c87-37eb-47ff-c019-8f9e040260c0"
      },
      "execution_count": 3,
      "outputs": [
        {
          "output_type": "stream",
          "name": "stdout",
          "text": [
            "/content/drive/MyDrive/CV_seminar_project\n"
          ]
        }
      ]
    },
    {
      "cell_type": "markdown",
      "source": [
        "# 학습한 model 불러오기"
      ],
      "metadata": {
        "id": "FjKrvkzUzGli"
      }
    },
    {
      "cell_type": "code",
      "source": [
        "state_dict = torch.load('resnet50_56_91.929.pth')\n",
        "\n",
        "best_epoch = state_dict['epoch'] # 38\n",
        "best_test_acc = state_dict['test_acc']\n",
        "weights = state_dict['net'] # best epoch에서의 가중치\n",
        "\n",
        "print(f'{best_epoch}번째 epoch에서 valid셋 기준으로 {best_test_acc}% 를 달성하였습니다.')"
      ],
      "metadata": {
        "colab": {
          "base_uri": "https://localhost:8080/"
        },
        "id": "xZzcTAenyJba",
        "outputId": "2bc767a4-3a59-45fd-c39a-8c64670283dc"
      },
      "execution_count": 6,
      "outputs": [
        {
          "output_type": "stream",
          "name": "stdout",
          "text": [
            "56번째 epoch에서 valid셋 기준으로 91.929% 를 달성하였습니다.\n"
          ]
        }
      ]
    },
    {
      "cell_type": "markdown",
      "source": [
        "# 학습한 가중치를 모델에 적용하기"
      ],
      "metadata": {
        "id": "y86bnRre0Rh3"
      }
    },
    {
      "cell_type": "code",
      "source": [
        "from torchvision import models # model 라이브러리\n",
        "import torch.nn as nn\n",
        "\n",
        "\n",
        "weights_path = '/content/drive/MyDrive/CV_seminar_project/resnet50_56_91.929.pth'\n",
        "weights = torch.load(weights_path)\n",
        "resnet_50 = models.resnet50(pretrained = False).to(device)\n",
        "\n",
        "# fine tuning\n",
        "resnet_50.fc = nn.Linear(resnet_50.fc.in_features, 3).to(device)\n",
        "resnet_50.load_state_dict(weights['net'])"
      ],
      "metadata": {
        "colab": {
          "base_uri": "https://localhost:8080/"
        },
        "id": "nCtbodRKFhiM",
        "outputId": "762dc6ab-308a-432e-8b4f-c3a6838c7ec5"
      },
      "execution_count": 7,
      "outputs": [
        {
          "output_type": "stream",
          "name": "stderr",
          "text": [
            "/usr/local/lib/python3.9/dist-packages/torchvision/models/_utils.py:208: UserWarning: The parameter 'pretrained' is deprecated since 0.13 and may be removed in the future, please use 'weights' instead.\n",
            "  warnings.warn(\n",
            "/usr/local/lib/python3.9/dist-packages/torchvision/models/_utils.py:223: UserWarning: Arguments other than a weight enum or `None` for 'weights' are deprecated since 0.13 and may be removed in the future. The current behavior is equivalent to passing `weights=None`.\n",
            "  warnings.warn(msg)\n"
          ]
        },
        {
          "output_type": "execute_result",
          "data": {
            "text/plain": [
              "<All keys matched successfully>"
            ]
          },
          "metadata": {},
          "execution_count": 7
        }
      ]
    },
    {
      "cell_type": "markdown",
      "source": [
        "# 데이터셋 불러오기"
      ],
      "metadata": {
        "id": "VHipi-ctL4sI"
      }
    },
    {
      "cell_type": "code",
      "source": [
        "from cv_dataset import Custom_dataset as C\n",
        "from torch.utils.data import Dataset, DataLoader\n",
        "import cv2\n",
        "import os\n",
        "import torch\n",
        "import torchvision\n",
        "from torchvision import transforms # 이미지 데이터 augmentation\n",
        "import os\n",
        "import glob\n",
        "import albumentations as A\n",
        "from albumentations.pytorch.transforms import ToTensorV2 # albumentations 텐서화 함수\n",
        "\n",
        "train_transforms = A.Compose([\n",
        "    A.Resize(224,224), # \n",
        "    A.Transpose(p=0.5),\n",
        "    A.HorizontalFlip(p=0.5),\n",
        "    A.VerticalFlip(p=0.5),\n",
        "    A.ShiftScaleRotate(p=0.5),\n",
        "    A.HueSaturationValue(hue_shift_limit=20, sat_shift_limit=20, val_shift_limit=20, p=0.5),\n",
        "    A.RandomBrightnessContrast(brightness_limit=(-0.1,0.1), contrast_limit=(-0.1, 0.1), p=0.5),\n",
        "    A.ChannelShuffle(),\n",
        "    A.Normalize(mean=(0.485, 0.456, 0.406), std=(0.229, 0.224, 0.225), max_pixel_value=255.0, always_apply=False, p=1.0), # 이미지넷 데이터셋 통계값으로 Normalize\n",
        "    A.CoarseDropout(p=0.5),\n",
        "    ToTensorV2() # 텐서화만 적용 , pytorch albumentation의 totensor 는 min_max scaling 적용까지\n",
        "])\n",
        "\n",
        "test_transforms = A.Compose([\n",
        "    A.Resize(224,224),\n",
        "    A.Normalize(mean=(0.485, 0.456, 0.406), std=(0.229, 0.224, 0.225), max_pixel_value=255.0, always_apply=False, p=1.0), # 텐서타입은 안해줌\n",
        "    ToTensorV2() # Normalize를 먼저하고 tensor화를 진행해야한다.\n",
        "])\n",
        "\n",
        "### Pytorch 데이터 클래스 생성\n",
        "train_class = C(root_path=root_path, mode='train', transforms=train_transforms)\n",
        "valid_class = C(root_path=root_path, mode='valid', transforms=test_transforms)\n",
        "test_class = C(root_path=root_path, mode='test', transforms=test_transforms)\n",
        "\n",
        "### Pytorch BatchLoader 생성 (학습에 이용할 최종 dataloader)\n",
        "from torch.utils.data import DataLoader as DataLoader\n",
        "\n",
        "train_loader = DataLoader(train_class, batch_size=batch_size, shuffle = True, num_workers=0)\n",
        "valid_loader = DataLoader(valid_class, batch_size=batch_size, shuffle = False, num_workers=0)\n",
        "test_loader = DataLoader(test_class, batch_size=batch_size, shuffle = False, num_workers=0)"
      ],
      "metadata": {
        "id": "3vCjUJYfHL2X"
      },
      "execution_count": 9,
      "outputs": []
    },
    {
      "cell_type": "markdown",
      "source": [
        "# testset의 최종 성능 확인하기 (90.77%)\n",
        "과제\n",
        "> 모델은 100epochs를 돌려서 만든 가중치를 이용한다.   \n",
        "> test_loader를 생성하여, test셋의 최종 성능을 평가한다.   "
      ],
      "metadata": {
        "id": "82WGGj3e1GAF"
      }
    },
    {
      "cell_type": "code",
      "source": [
        "import torch.nn as nn\n",
        "\n",
        "# 하이퍼파라미터\n",
        "batch_size = 8\n",
        "lr = 0.0001\n",
        "epochs = 100\n",
        "optimizer_name = 'adam'\n",
        "\n",
        "model_name = 'resnet50'\n",
        "criterion = nn.CrossEntropyLoss().to(device) # cost function 패널티 주는 역할\n",
        "\n",
        "root_path = '/content/drive/MyDrive/CV_seminar_project'\n",
        "train_path = '/content/drive/MyDrive/CV_seminar_project/train'\n",
        "valid_path = '/content/drive/MyDrive/CV_seminar_project/valid'"
      ],
      "metadata": {
        "id": "cDhRS6yiHRNg"
      },
      "execution_count": 8,
      "outputs": []
    },
    {
      "cell_type": "code",
      "source": [
        "optimizer = torch.optim.Adam(resnet_50.parameters(), lr = lr, weight_decay = 1e-8) # 학습을 할수록 학습률 낮춰주는 역할(러닝 보폭 줄이기, 섬세하게 보기위해)"
      ],
      "metadata": {
        "id": "VOq9FrO-HK4O"
      },
      "execution_count": 10,
      "outputs": []
    },
    {
      "cell_type": "code",
      "source": [
        "from tqdm import tqdm\n",
        "import argparse\n",
        "import logging\n",
        "from pathlib import Path\n",
        "from torch import optim\n",
        "import numpy as np\n",
        "\n",
        "train_acc_lst, train_loss_lst, test_acc_lst, test_loss_lst= [], [], [], []\n",
        "\n",
        "epochs = 30\n",
        "model_name = 'resnet50'\n",
        "state={}\n",
        "\n",
        "for epoch in range(1, epochs+1):\n",
        "\n",
        "  train_loss = 0.0\n",
        "  total = 0\n",
        "  correct = 0\n",
        "  train_acc = 0\n",
        "  \n",
        "  resnet_50.train()\n",
        "  for i, (train_img, train_label) in enumerate(train_loader):\n",
        "    # gpu에 할당\n",
        "    train_img = train_img.to(device)\n",
        "    train_label = train_label.to(device)\n",
        "\n",
        "    output = resnet_50(train_img) # 모델에 입력\n",
        "\n",
        "    optimizer.zero_grad( set_to_none = True ) # 계산했던 가중치 초기화    \n",
        "    loss = criterion(output, train_label)\n",
        "    loss.backward() # 미분\n",
        "    optimizer.step() # 학습\n",
        "\n",
        "    # loss & acc\n",
        "    train_loss += loss.item()\n",
        "    _, predictions = torch.max(output.data ,dim = 1)\n",
        "   \n",
        "    total += train_label.size(0)\n",
        "    correct += (predictions == train_label).sum().item()\n",
        "    train_acc += 100 * (correct / total)\n",
        "\n",
        "  train_loss = round(train_loss/(i+1), 3) # 소수점 반올림\n",
        "  train_acc = round(train_acc/(i+1), 3)\n",
        "  print(f'Trainset {epoch}/{epochs} Loss : {train_loss}, Accuracy : {train_acc}%')\n",
        "  train_acc_lst.append(train_acc)\n",
        "  train_loss_lst.append(train_loss)\n",
        "\n",
        "  # -------------------------------------------------------------------------------------\n",
        "  test_loss = 0.0\n",
        "  corrects = 0\n",
        "  totals = 0\n",
        "  test_acc = 0\n",
        "\n",
        "  resnet_50.eval()\n",
        "  with torch.no_grad():\n",
        "\n",
        "    for i, (test_img, test_label) in enumerate(test_loader):\n",
        "          # gpu에 할당\n",
        "      test_img = test_img.to(device)\n",
        "      test_label = test_label.to(device)\n",
        "\n",
        "      outputs = resnet_50(test_img) # 모델에 입력\n",
        "      losses = criterion(outputs, test_label)\n",
        "\n",
        "      # loss & acc\n",
        "      test_loss += losses.item()\n",
        "      _, predictions = torch.max(outputs.data ,dim = 1 )\n",
        "    \n",
        "      totals += test_label.size(0)\n",
        "      corrects += (predictions == test_label).sum().item()\n",
        "      test_acc += 100 * (corrects / totals)\n",
        "\n",
        "    test_loss = round(test_loss/(i+1), 3) # 소수점 반올림\n",
        "    test_acc = round(test_acc/(i+1), 3)\n",
        "    print(f'Testset {epoch}/{epochs} Loss : {test_loss}, Accuracy : {test_acc}% \\n')\n",
        "    test_loss_lst.append(test_loss)\n",
        "    test_acc_lst.append(test_acc)\n",
        "  \n",
        "  # 모델 저장\n",
        "  if np.max(test_acc_lst) <= test_acc:\n",
        "\n",
        "    state['epoch'] = epoch\n",
        "    state['net'] = resnet_50.state_dict()\n",
        "\n",
        "    state['train_loss'] = train_loss\n",
        "    state['test_loss'] = test_loss\n",
        "\n",
        "    state['train_acc'] = train_acc\n",
        "    state['test_acc'] = test_acc\n",
        "torch.save(state, '/content/drive/MyDrive/CV_seminar_project/test_resnet50_{}_{}.pth'.format(str(state['epoch']), str(state['test_acc'])))"
      ],
      "metadata": {
        "colab": {
          "base_uri": "https://localhost:8080/"
        },
        "id": "BLKesBCw04q4",
        "outputId": "3de8e58c-bd9e-41e5-d8c5-9c90e245e8ec"
      },
      "execution_count": 11,
      "outputs": [
        {
          "output_type": "stream",
          "name": "stdout",
          "text": [
            "Trainset 1/30 Loss : 0.096, Accuracy : 97.299%\n",
            "Testset 1/30 Loss : 0.425, Accuracy : 84.4% \n",
            "\n",
            "Trainset 2/30 Loss : 0.058, Accuracy : 98.775%\n",
            "Testset 2/30 Loss : 0.419, Accuracy : 80.86% \n",
            "\n",
            "Trainset 3/30 Loss : 0.083, Accuracy : 97.607%\n",
            "Testset 3/30 Loss : 0.399, Accuracy : 87.073% \n",
            "\n",
            "Trainset 4/30 Loss : 0.12, Accuracy : 97.002%\n",
            "Testset 4/30 Loss : 0.452, Accuracy : 83.224% \n",
            "\n",
            "Trainset 5/30 Loss : 0.061, Accuracy : 98.086%\n",
            "Testset 5/30 Loss : 0.442, Accuracy : 82.243% \n",
            "\n",
            "Trainset 6/30 Loss : 0.143, Accuracy : 96.887%\n",
            "Testset 6/30 Loss : 0.461, Accuracy : 81.555% \n",
            "\n",
            "Trainset 7/30 Loss : 0.139, Accuracy : 94.49%\n",
            "Testset 7/30 Loss : 0.328, Accuracy : 80.491% \n",
            "\n",
            "Trainset 8/30 Loss : 0.108, Accuracy : 96.221%\n",
            "Testset 8/30 Loss : 0.301, Accuracy : 81.315% \n",
            "\n",
            "Trainset 9/30 Loss : 0.073, Accuracy : 97.27%\n",
            "Testset 9/30 Loss : 0.341, Accuracy : 89.238% \n",
            "\n",
            "Trainset 10/30 Loss : 0.074, Accuracy : 97.981%\n",
            "Testset 10/30 Loss : 0.441, Accuracy : 79.888% \n",
            "\n",
            "Trainset 11/30 Loss : 0.07, Accuracy : 97.971%\n",
            "Testset 11/30 Loss : 0.395, Accuracy : 86.47% \n",
            "\n",
            "Trainset 12/30 Loss : 0.069, Accuracy : 96.695%\n",
            "Testset 12/30 Loss : 0.376, Accuracy : 85.215% \n",
            "\n",
            "Trainset 13/30 Loss : 0.071, Accuracy : 97.907%\n",
            "Testset 13/30 Loss : 0.407, Accuracy : 90.184% \n",
            "\n",
            "Trainset 14/30 Loss : 0.112, Accuracy : 96.616%\n",
            "Testset 14/30 Loss : 0.468, Accuracy : 80.096% \n",
            "\n",
            "Trainset 15/30 Loss : 0.079, Accuracy : 98.231%\n",
            "Testset 15/30 Loss : 0.309, Accuracy : 90.769% \n",
            "\n",
            "Trainset 16/30 Loss : 0.094, Accuracy : 96.584%\n",
            "Testset 16/30 Loss : 0.413, Accuracy : 78.829% \n",
            "\n",
            "Trainset 17/30 Loss : 0.083, Accuracy : 97.952%\n",
            "Testset 17/30 Loss : 0.336, Accuracy : 87.645% \n",
            "\n",
            "Trainset 18/30 Loss : 0.053, Accuracy : 98.257%\n",
            "Testset 18/30 Loss : 0.398, Accuracy : 85.699% \n",
            "\n",
            "Trainset 19/30 Loss : 0.042, Accuracy : 96.92%\n",
            "Testset 19/30 Loss : 0.369, Accuracy : 88.707% \n",
            "\n",
            "Trainset 20/30 Loss : 0.029, Accuracy : 99.357%\n",
            "Testset 20/30 Loss : 0.341, Accuracy : 83.732% \n",
            "\n",
            "Trainset 21/30 Loss : 0.043, Accuracy : 98.021%\n",
            "Testset 21/30 Loss : 0.744, Accuracy : 72.816% \n",
            "\n",
            "Trainset 22/30 Loss : 0.062, Accuracy : 98.057%\n",
            "Testset 22/30 Loss : 0.43, Accuracy : 86.174% \n",
            "\n",
            "Trainset 23/30 Loss : 0.092, Accuracy : 97.908%\n",
            "Testset 23/30 Loss : 0.742, Accuracy : 75.555% \n",
            "\n",
            "Trainset 24/30 Loss : 0.099, Accuracy : 96.436%\n",
            "Testset 24/30 Loss : 0.65, Accuracy : 66.761% \n",
            "\n",
            "Trainset 25/30 Loss : 0.165, Accuracy : 95.523%\n",
            "Testset 25/30 Loss : 0.62, Accuracy : 77.404% \n",
            "\n",
            "Trainset 26/30 Loss : 0.076, Accuracy : 96.863%\n",
            "Testset 26/30 Loss : 0.403, Accuracy : 84.369% \n",
            "\n",
            "Trainset 27/30 Loss : 0.057, Accuracy : 98.377%\n",
            "Testset 27/30 Loss : 0.411, Accuracy : 80.459% \n",
            "\n",
            "Trainset 28/30 Loss : 0.06, Accuracy : 98.931%\n",
            "Testset 28/30 Loss : 0.402, Accuracy : 87.811% \n",
            "\n",
            "Trainset 29/30 Loss : 0.045, Accuracy : 98.967%\n",
            "Testset 29/30 Loss : 0.453, Accuracy : 80.964% \n",
            "\n",
            "Trainset 30/30 Loss : 0.071, Accuracy : 99.088%\n",
            "Testset 30/30 Loss : 0.474, Accuracy : 85.089% \n",
            "\n"
          ]
        }
      ]
    },
    {
      "cell_type": "code",
      "source": [
        "state['epoch'], state['test_acc']"
      ],
      "metadata": {
        "colab": {
          "base_uri": "https://localhost:8080/"
        },
        "id": "YuJiB2tSK7qn",
        "outputId": "3a08ecae-b0e3-4875-da6b-76c5664969fe"
      },
      "execution_count": 12,
      "outputs": [
        {
          "output_type": "execute_result",
          "data": {
            "text/plain": [
              "(15, 90.769)"
            ]
          },
          "metadata": {},
          "execution_count": 12
        }
      ]
    },
    {
      "cell_type": "code",
      "source": [
        "import matplotlib.pyplot as plt\n",
        "import matplotlib\n",
        "import seaborn as sns\n",
        "import numpy as np\n",
        "\n",
        "fig, axes = plt.subplots( nrows = 1, ncols = 2, figsize = (20, 8) )\n",
        " \n",
        "axes[0].plot(np.arange(1,len(train_acc_lst)+1), train_acc_lst, label = 'train_acc')\n",
        "axes[0].plot(np.arange(1,len(test_acc_lst)+1), test_acc_lst, label = 'valid_acc')\n",
        "axes[0].axvline(x=state['epoch'], ymin=0, ymax=100, color='r', linestyle=':')\n",
        "axes[0].legend(fontsize=12)\n",
        "axes[0].set_title('Accuracy')\n",
        "\n",
        "axes[1].plot(np.arange(1,len(train_loss_lst)+1), train_loss_lst, label = 'train_loss')\n",
        "axes[1].plot(np.arange(1,len(test_loss_lst)+1), test_loss_lst, label = 'valid_loss')\n",
        "axes[1].axvline(x=state['epoch'], ymin=0, ymax=100, color='r', linestyle=':')\n",
        "axes[1].legend(fontsize=12)\n",
        "axes[1].set_title('loss')"
      ],
      "metadata": {
        "colab": {
          "base_uri": "https://localhost:8080/",
          "height": 297
        },
        "id": "pRkZGlO6K61U",
        "outputId": "1ce606ef-d7f8-4366-c341-c4e36500a1dc"
      },
      "execution_count": 19,
      "outputs": [
        {
          "output_type": "execute_result",
          "data": {
            "text/plain": [
              "Text(0.5, 1.0, 'loss')"
            ]
          },
          "metadata": {},
          "execution_count": 19
        },
        {
          "output_type": "display_data",
          "data": {
            "text/plain": [
              "<Figure size 1440x576 with 2 Axes>"
            ],
            "image/png": "[encoded data removed]"
          },
          "metadata": {
            "needs_background": "light"
          }
        }
      ]
    },
    {
      "cell_type": "code",
      "source": [
        "print('{}번째 epoch에서 test셋 기준으로 {}% 를 달성하였습니다.'.format(str(state['epoch']), str(state['test_acc'])))"
      ],
      "metadata": {
        "colab": {
          "base_uri": "https://localhost:8080/"
        },
        "id": "BopDLUOeLCV3",
        "outputId": "67e32a34-ddff-412a-f4dd-4c8021843f95"
      },
      "execution_count": 22,
      "outputs": [
        {
          "output_type": "stream",
          "name": "stdout",
          "text": [
            "15번째 epoch에서 test셋 기준으로 90.769% 를 달성하였습니다.\n"
          ]
        }
      ]
    }
  ]
}